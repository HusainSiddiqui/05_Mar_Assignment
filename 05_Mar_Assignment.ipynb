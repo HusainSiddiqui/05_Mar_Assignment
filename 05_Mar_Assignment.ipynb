{
 "cells": [
  {
   "cell_type": "markdown",
   "metadata": {},
   "source": [
    "Q1. How can you create a Bokeh plot using Python code?"
   ]
  },
  {
   "cell_type": "code",
   "execution_count": 8,
   "metadata": {},
   "outputs": [
    {
     "data": {
      "text/html": [
       "\n",
       "<div class=\"bk-root\">\n",
       "    <div class=\"bk-plotdiv\" id=\"dd8419f8-d144-40ea-8420-2257103d6553\"></div>\n",
       "</div>"
      ]
     },
     "metadata": {},
     "output_type": "display_data"
    },
    {
     "data": {
      "application/javascript": [
       "(function(root) {\n",
       "  function embed_document(root) {\n",
       "    \n",
       "  var docs_json = {\"abd9399b-fac1-464c-a57c-f16a6b00b7ba\":{\"roots\":{\"references\":[{\"attributes\":{\"dimension\":1,\"plot\":{\"id\":\"40040a1f-1a7c-4845-bbdc-187c6db9aa74\",\"subtype\":\"Figure\",\"type\":\"Plot\"},\"ticker\":{\"id\":\"3a5b2d6c-9d4d-454b-9b52-ef598acfe9e7\",\"type\":\"BasicTicker\"}},\"id\":\"776d364e-58fe-45aa-8eb1-848efa0076a1\",\"type\":\"Grid\"},{\"attributes\":{\"below\":[{\"id\":\"fdce555f-a151-48e4-bb00-93be20e6a606\",\"type\":\"LinearAxis\"}],\"left\":[{\"id\":\"d9b2eab5-8cd0-4f61-bb61-6ef5cf6dec7a\",\"type\":\"LinearAxis\"}],\"plot_height\":400,\"plot_width\":400,\"renderers\":[{\"id\":\"fdce555f-a151-48e4-bb00-93be20e6a606\",\"type\":\"LinearAxis\"},{\"id\":\"bfc0bf5f-3301-4fc0-8304-2c8ff4baff34\",\"type\":\"Grid\"},{\"id\":\"d9b2eab5-8cd0-4f61-bb61-6ef5cf6dec7a\",\"type\":\"LinearAxis\"},{\"id\":\"776d364e-58fe-45aa-8eb1-848efa0076a1\",\"type\":\"Grid\"},{\"id\":\"77c3b090-f15b-4e38-8016-e8e9dc76393f\",\"type\":\"BoxAnnotation\"},{\"id\":\"ff827ff9-23b1-4b31-b1f7-d7e0aafabd27\",\"type\":\"GlyphRenderer\"}],\"title\":{\"id\":\"d7b8d1ab-eee6-4511-b3a1-8e487397670d\",\"type\":\"Title\"},\"toolbar\":{\"id\":\"4343f7df-88b4-4a05-a197-30beee46be52\",\"type\":\"Toolbar\"},\"x_range\":{\"id\":\"33768464-bb88-4f45-a794-222ee0af1553\",\"type\":\"DataRange1d\"},\"x_scale\":{\"id\":\"9246e0a5-191b-4e78-8e8a-bf99efa0ec1f\",\"type\":\"LinearScale\"},\"y_range\":{\"id\":\"2863d6c9-ef11-4598-b420-894b3e57c9d8\",\"type\":\"DataRange1d\"},\"y_scale\":{\"id\":\"fdcd5c90-2a46-4458-a32e-301df2f04b85\",\"type\":\"LinearScale\"}},\"id\":\"40040a1f-1a7c-4845-bbdc-187c6db9aa74\",\"subtype\":\"Figure\",\"type\":\"Plot\"},{\"attributes\":{\"formatter\":{\"id\":\"52897fc2-e198-44f4-9443-f4d4eb01c94a\",\"type\":\"BasicTickFormatter\"},\"plot\":{\"id\":\"40040a1f-1a7c-4845-bbdc-187c6db9aa74\",\"subtype\":\"Figure\",\"type\":\"Plot\"},\"ticker\":{\"id\":\"3a5b2d6c-9d4d-454b-9b52-ef598acfe9e7\",\"type\":\"BasicTicker\"}},\"id\":\"d9b2eab5-8cd0-4f61-bb61-6ef5cf6dec7a\",\"type\":\"LinearAxis\"},{\"attributes\":{\"data_source\":{\"id\":\"cc41e739-2540-4424-9665-e88528ec344f\",\"type\":\"ColumnDataSource\"},\"glyph\":{\"id\":\"86f3608f-fed6-48d8-a52d-8ef8ec9fb1f0\",\"type\":\"Circle\"},\"hover_glyph\":null,\"muted_glyph\":null,\"nonselection_glyph\":{\"id\":\"fb7814db-65a4-4388-93f1-5436fe00fa79\",\"type\":\"Circle\"},\"selection_glyph\":null,\"view\":{\"id\":\"a76fc738-02a3-4fc3-881b-ed67a415dfc6\",\"type\":\"CDSView\"}},\"id\":\"ff827ff9-23b1-4b31-b1f7-d7e0aafabd27\",\"type\":\"GlyphRenderer\"},{\"attributes\":{},\"id\":\"fdcd5c90-2a46-4458-a32e-301df2f04b85\",\"type\":\"LinearScale\"},{\"attributes\":{},\"id\":\"e04b9215-c165-4c8a-8a0a-e5876d74085e\",\"type\":\"WheelZoomTool\"},{\"attributes\":{},\"id\":\"52943386-ed03-4f63-86e5-050e2428a985\",\"type\":\"Selection\"},{\"attributes\":{},\"id\":\"aecb4336-26b5-4f28-a3fe-2532b480d190\",\"type\":\"BasicTickFormatter\"},{\"attributes\":{\"fill_alpha\":{\"value\":0.1},\"fill_color\":{\"value\":\"#1f77b4\"},\"line_alpha\":{\"value\":0.1},\"line_color\":{\"value\":\"#1f77b4\"},\"size\":{\"units\":\"screen\",\"value\":15},\"x\":{\"field\":\"x\"},\"y\":{\"field\":\"y\"}},\"id\":\"fb7814db-65a4-4388-93f1-5436fe00fa79\",\"type\":\"Circle\"},{\"attributes\":{\"plot\":{\"id\":\"40040a1f-1a7c-4845-bbdc-187c6db9aa74\",\"subtype\":\"Figure\",\"type\":\"Plot\"},\"ticker\":{\"id\":\"1dcc06ac-a0dd-4935-8c4f-a782802e2f27\",\"type\":\"BasicTicker\"}},\"id\":\"bfc0bf5f-3301-4fc0-8304-2c8ff4baff34\",\"type\":\"Grid\"},{\"attributes\":{\"callback\":null},\"id\":\"2863d6c9-ef11-4598-b420-894b3e57c9d8\",\"type\":\"DataRange1d\"},{\"attributes\":{},\"id\":\"e9926351-e592-4e3a-b745-c73d098224f0\",\"type\":\"PanTool\"},{\"attributes\":{\"callback\":null,\"data\":{\"x\":[1,2,3,4,5],\"y\":[6,7,2,4,5]},\"selected\":{\"id\":\"52943386-ed03-4f63-86e5-050e2428a985\",\"type\":\"Selection\"},\"selection_policy\":{\"id\":\"5cb069cc-54b1-4941-8a86-194f325b1308\",\"type\":\"UnionRenderers\"}},\"id\":\"cc41e739-2540-4424-9665-e88528ec344f\",\"type\":\"ColumnDataSource\"},{\"attributes\":{},\"id\":\"91cc216f-a54c-4742-abfe-14f93d29af8b\",\"type\":\"HelpTool\"},{\"attributes\":{\"bottom_units\":\"screen\",\"fill_alpha\":{\"value\":0.5},\"fill_color\":{\"value\":\"lightgrey\"},\"left_units\":\"screen\",\"level\":\"overlay\",\"line_alpha\":{\"value\":1.0},\"line_color\":{\"value\":\"black\"},\"line_dash\":[4,4],\"line_width\":{\"value\":2},\"plot\":null,\"render_mode\":\"css\",\"right_units\":\"screen\",\"top_units\":\"screen\"},\"id\":\"77c3b090-f15b-4e38-8016-e8e9dc76393f\",\"type\":\"BoxAnnotation\"},{\"attributes\":{},\"id\":\"3a5b2d6c-9d4d-454b-9b52-ef598acfe9e7\",\"type\":\"BasicTicker\"},{\"attributes\":{\"source\":{\"id\":\"cc41e739-2540-4424-9665-e88528ec344f\",\"type\":\"ColumnDataSource\"}},\"id\":\"a76fc738-02a3-4fc3-881b-ed67a415dfc6\",\"type\":\"CDSView\"},{\"attributes\":{\"active_drag\":\"auto\",\"active_inspect\":\"auto\",\"active_scroll\":\"auto\",\"active_tap\":\"auto\",\"tools\":[{\"id\":\"e9926351-e592-4e3a-b745-c73d098224f0\",\"type\":\"PanTool\"},{\"id\":\"e04b9215-c165-4c8a-8a0a-e5876d74085e\",\"type\":\"WheelZoomTool\"},{\"id\":\"94e693f9-e958-42cb-89df-f72d4caf97fe\",\"type\":\"BoxZoomTool\"},{\"id\":\"8e1980fe-eeb6-4538-8a89-696c0c01f0f9\",\"type\":\"SaveTool\"},{\"id\":\"7ca4ad11-a1dc-4e3d-a787-5ee31396bcb3\",\"type\":\"ResetTool\"},{\"id\":\"91cc216f-a54c-4742-abfe-14f93d29af8b\",\"type\":\"HelpTool\"}]},\"id\":\"4343f7df-88b4-4a05-a197-30beee46be52\",\"type\":\"Toolbar\"},{\"attributes\":{},\"id\":\"8e1980fe-eeb6-4538-8a89-696c0c01f0f9\",\"type\":\"SaveTool\"},{\"attributes\":{\"plot\":null,\"text\":\"example graph\"},\"id\":\"d7b8d1ab-eee6-4511-b3a1-8e487397670d\",\"type\":\"Title\"},{\"attributes\":{\"fill_alpha\":{\"value\":0.5},\"fill_color\":{\"value\":\"orange\"},\"line_color\":{\"value\":\"navy\"},\"size\":{\"units\":\"screen\",\"value\":15},\"x\":{\"field\":\"x\"},\"y\":{\"field\":\"y\"}},\"id\":\"86f3608f-fed6-48d8-a52d-8ef8ec9fb1f0\",\"type\":\"Circle\"},{\"attributes\":{\"formatter\":{\"id\":\"aecb4336-26b5-4f28-a3fe-2532b480d190\",\"type\":\"BasicTickFormatter\"},\"plot\":{\"id\":\"40040a1f-1a7c-4845-bbdc-187c6db9aa74\",\"subtype\":\"Figure\",\"type\":\"Plot\"},\"ticker\":{\"id\":\"1dcc06ac-a0dd-4935-8c4f-a782802e2f27\",\"type\":\"BasicTicker\"}},\"id\":\"fdce555f-a151-48e4-bb00-93be20e6a606\",\"type\":\"LinearAxis\"},{\"attributes\":{},\"id\":\"5cb069cc-54b1-4941-8a86-194f325b1308\",\"type\":\"UnionRenderers\"},{\"attributes\":{},\"id\":\"1dcc06ac-a0dd-4935-8c4f-a782802e2f27\",\"type\":\"BasicTicker\"},{\"attributes\":{\"overlay\":{\"id\":\"77c3b090-f15b-4e38-8016-e8e9dc76393f\",\"type\":\"BoxAnnotation\"}},\"id\":\"94e693f9-e958-42cb-89df-f72d4caf97fe\",\"type\":\"BoxZoomTool\"},{\"attributes\":{},\"id\":\"9246e0a5-191b-4e78-8e8a-bf99efa0ec1f\",\"type\":\"LinearScale\"},{\"attributes\":{},\"id\":\"52897fc2-e198-44f4-9443-f4d4eb01c94a\",\"type\":\"BasicTickFormatter\"},{\"attributes\":{\"callback\":null},\"id\":\"33768464-bb88-4f45-a794-222ee0af1553\",\"type\":\"DataRange1d\"},{\"attributes\":{},\"id\":\"7ca4ad11-a1dc-4e3d-a787-5ee31396bcb3\",\"type\":\"ResetTool\"}],\"root_ids\":[\"40040a1f-1a7c-4845-bbdc-187c6db9aa74\"]},\"title\":\"Bokeh Application\",\"version\":\"0.12.16\"}};\n",
       "  var render_items = [{\"docid\":\"abd9399b-fac1-464c-a57c-f16a6b00b7ba\",\"elementid\":\"dd8419f8-d144-40ea-8420-2257103d6553\",\"modelid\":\"40040a1f-1a7c-4845-bbdc-187c6db9aa74\"}];\n",
       "  root.Bokeh.embed.embed_items_notebook(docs_json, render_items);\n",
       "\n",
       "  }\n",
       "  if (root.Bokeh !== undefined) {\n",
       "    embed_document(root);\n",
       "  } else {\n",
       "    var attempts = 0;\n",
       "    var timer = setInterval(function(root) {\n",
       "      if (root.Bokeh !== undefined) {\n",
       "        embed_document(root);\n",
       "        clearInterval(timer);\n",
       "      }\n",
       "      attempts++;\n",
       "      if (attempts > 100) {\n",
       "        console.log(\"Bokeh: ERROR: Unable to run BokehJS code because BokehJS library is missing\")\n",
       "        clearInterval(timer);\n",
       "      }\n",
       "    }, 10, root)\n",
       "  }\n",
       "})(window);"
      ],
      "application/vnd.bokehjs_exec.v0+json": ""
     },
     "metadata": {
      "application/vnd.bokehjs_exec.v0+json": {
       "id": "40040a1f-1a7c-4845-bbdc-187c6db9aa74"
      }
     },
     "output_type": "display_data"
    }
   ],
   "source": [
    "#1. Import the necessary modules:\n",
    "from bokeh.plotting import figure, show\n",
    "from bokeh.io import output_notebook\n",
    "\n",
    "# enable output in the notebook\n",
    "output_notebook()\n",
    "\n",
    "#2. Create a figure:\n",
    "p = figure(plot_width=400, plot_height=400)\n",
    "\n",
    "#3. Add glyphs to the figure:\n",
    "p.circle([1, 2, 3, 4, 5], [6, 7, 2, 4, 5], size=15, line_color=\"navy\", fill_color=\"orange\", fill_alpha=0.5)\n",
    "\n",
    "#4. Customize the plot:\n",
    "p.title.text = 'example graph'\n",
    "\n",
    "#5. Show the plot:\n",
    "show(p)"
   ]
  },
  {
   "cell_type": "markdown",
   "metadata": {},
   "source": [
    "Q2. What are glyphs in Bokeh, and how can you add them to a Bokeh plot? Explain with an example."
   ]
  },
  {
   "cell_type": "markdown",
   "metadata": {},
   "source": [
    "Glyphs are the visual shapes and markers that are used to represent data in Bokeh plots. Bokeh provides a wide range of built-in glyphs, including circles, squares, triangles, lines, and more. Glyphs can be customized with various properties such as size, color, and alpha.\n",
    "\n",
    "To add glyphs to a Bokeh plot, you can use the glyph method of the Figure object. Here's an example code snippet that adds a circle glyph to a scatter plot:"
   ]
  },
  {
   "cell_type": "code",
   "execution_count": 6,
   "metadata": {},
   "outputs": [
    {
     "data": {
      "text/html": [
       "\n",
       "<div class=\"bk-root\">\n",
       "    <div class=\"bk-plotdiv\" id=\"ab704ee3-3faf-46d6-aee3-a0c483615748\"></div>\n",
       "</div>"
      ]
     },
     "metadata": {},
     "output_type": "display_data"
    },
    {
     "data": {
      "application/javascript": [
       "(function(root) {\n",
       "  function embed_document(root) {\n",
       "    \n",
       "  var docs_json = {\"3b1decc2-96e3-49dc-8ddd-7f20c5bd337b\":{\"roots\":{\"references\":[{\"attributes\":{},\"id\":\"ea72d6d5-c908-44b2-9422-c18ce31dfe1a\",\"type\":\"ResetTool\"},{\"attributes\":{\"callback\":null},\"id\":\"7b8366cc-f80c-43e8-90c4-d3e33e683076\",\"type\":\"DataRange1d\"},{\"attributes\":{\"bottom_units\":\"screen\",\"fill_alpha\":{\"value\":0.5},\"fill_color\":{\"value\":\"lightgrey\"},\"left_units\":\"screen\",\"level\":\"overlay\",\"line_alpha\":{\"value\":1.0},\"line_color\":{\"value\":\"black\"},\"line_dash\":[4,4],\"line_width\":{\"value\":2},\"plot\":null,\"render_mode\":\"css\",\"right_units\":\"screen\",\"top_units\":\"screen\"},\"id\":\"d8d465dc-d8cf-45fd-bbd8-9ad45884cfb6\",\"type\":\"BoxAnnotation\"},{\"attributes\":{\"below\":[{\"id\":\"e55510c4-9957-4128-92a4-ba075ce4edc5\",\"type\":\"LinearAxis\"}],\"left\":[{\"id\":\"42b5bc86-31de-4c02-b288-fbd9cf17501f\",\"type\":\"LinearAxis\"}],\"plot_height\":400,\"plot_width\":400,\"renderers\":[{\"id\":\"e55510c4-9957-4128-92a4-ba075ce4edc5\",\"type\":\"LinearAxis\"},{\"id\":\"69a42ce7-37de-4533-9843-cff7652b685e\",\"type\":\"Grid\"},{\"id\":\"42b5bc86-31de-4c02-b288-fbd9cf17501f\",\"type\":\"LinearAxis\"},{\"id\":\"0679b1bf-4021-431c-98a3-a47629fb23c5\",\"type\":\"Grid\"},{\"id\":\"d8d465dc-d8cf-45fd-bbd8-9ad45884cfb6\",\"type\":\"BoxAnnotation\"},{\"id\":\"e2de8f21-204d-400b-9abf-e7f8e5cb1b8a\",\"type\":\"GlyphRenderer\"}],\"title\":{\"id\":\"6d8e7e6e-4092-46f8-8fa1-0e3900cfce5b\",\"type\":\"Title\"},\"toolbar\":{\"id\":\"138a61ec-371f-422d-9121-2d24b2391948\",\"type\":\"Toolbar\"},\"x_range\":{\"id\":\"1e37afbf-d7db-471c-9033-0ad85cdaf4d8\",\"type\":\"DataRange1d\"},\"x_scale\":{\"id\":\"49fa0c74-073a-47d0-8843-9c1f93fff254\",\"type\":\"LinearScale\"},\"y_range\":{\"id\":\"7b8366cc-f80c-43e8-90c4-d3e33e683076\",\"type\":\"DataRange1d\"},\"y_scale\":{\"id\":\"c4a0cafe-164e-441e-8f9b-9db4d7156c9d\",\"type\":\"LinearScale\"}},\"id\":\"4f440f77-b4ff-4fd2-96f0-ecd34e940eae\",\"subtype\":\"Figure\",\"type\":\"Plot\"},{\"attributes\":{},\"id\":\"a4ddb0ce-9b80-4311-a9e4-e4e474756777\",\"type\":\"WheelZoomTool\"},{\"attributes\":{},\"id\":\"63ebe26a-e4dd-4be0-8a51-6b0d1b211592\",\"type\":\"PanTool\"},{\"attributes\":{},\"id\":\"c4a0cafe-164e-441e-8f9b-9db4d7156c9d\",\"type\":\"LinearScale\"},{\"attributes\":{},\"id\":\"f82c25df-ce3e-484d-96fe-f334a568fd96\",\"type\":\"BasicTickFormatter\"},{\"attributes\":{\"overlay\":{\"id\":\"d8d465dc-d8cf-45fd-bbd8-9ad45884cfb6\",\"type\":\"BoxAnnotation\"}},\"id\":\"054f082a-a9c8-43fa-a815-9a4c53674c65\",\"type\":\"BoxZoomTool\"},{\"attributes\":{},\"id\":\"c8944507-c90b-4070-9bf7-9656f92a9ed8\",\"type\":\"BasicTicker\"},{\"attributes\":{\"callback\":null},\"id\":\"1e37afbf-d7db-471c-9033-0ad85cdaf4d8\",\"type\":\"DataRange1d\"},{\"attributes\":{\"callback\":null,\"data\":{\"x\":[1,2,3,4,5],\"y\":[6,7,2,4,5]},\"selected\":{\"id\":\"b8fcc889-070d-45e9-92e3-cc94d3684801\",\"type\":\"Selection\"},\"selection_policy\":{\"id\":\"a2d031a1-011b-4fed-a443-d06218efc1e9\",\"type\":\"UnionRenderers\"}},\"id\":\"aeb1a3fb-5382-4b3f-8555-b0468cd10aac\",\"type\":\"ColumnDataSource\"},{\"attributes\":{},\"id\":\"d35ec079-fbc8-48cc-a095-f3eb7335b7f3\",\"type\":\"HelpTool\"},{\"attributes\":{\"fill_alpha\":{\"value\":0.1},\"fill_color\":{\"value\":\"#1f77b4\"},\"line_alpha\":{\"value\":0.1},\"line_color\":{\"value\":\"#1f77b4\"},\"size\":{\"units\":\"screen\",\"value\":15},\"x\":{\"field\":\"x\"},\"y\":{\"field\":\"y\"}},\"id\":\"d1b14685-6f95-4058-ae0d-a9ea20aff558\",\"type\":\"Circle\"},{\"attributes\":{},\"id\":\"1af39177-fe45-4f15-96f6-dfcd6a88e977\",\"type\":\"BasicTickFormatter\"},{\"attributes\":{},\"id\":\"b8fcc889-070d-45e9-92e3-cc94d3684801\",\"type\":\"Selection\"},{\"attributes\":{},\"id\":\"6eed8fbd-a5e2-43f2-b303-a31aa4bf86b7\",\"type\":\"BasicTicker\"},{\"attributes\":{},\"id\":\"a2d031a1-011b-4fed-a443-d06218efc1e9\",\"type\":\"UnionRenderers\"},{\"attributes\":{\"plot\":null,\"text\":\"\"},\"id\":\"6d8e7e6e-4092-46f8-8fa1-0e3900cfce5b\",\"type\":\"Title\"},{\"attributes\":{},\"id\":\"49fa0c74-073a-47d0-8843-9c1f93fff254\",\"type\":\"LinearScale\"},{\"attributes\":{\"dimension\":1,\"plot\":{\"id\":\"4f440f77-b4ff-4fd2-96f0-ecd34e940eae\",\"subtype\":\"Figure\",\"type\":\"Plot\"},\"ticker\":{\"id\":\"6eed8fbd-a5e2-43f2-b303-a31aa4bf86b7\",\"type\":\"BasicTicker\"}},\"id\":\"0679b1bf-4021-431c-98a3-a47629fb23c5\",\"type\":\"Grid\"},{\"attributes\":{\"active_drag\":\"auto\",\"active_inspect\":\"auto\",\"active_scroll\":\"auto\",\"active_tap\":\"auto\",\"tools\":[{\"id\":\"63ebe26a-e4dd-4be0-8a51-6b0d1b211592\",\"type\":\"PanTool\"},{\"id\":\"a4ddb0ce-9b80-4311-a9e4-e4e474756777\",\"type\":\"WheelZoomTool\"},{\"id\":\"054f082a-a9c8-43fa-a815-9a4c53674c65\",\"type\":\"BoxZoomTool\"},{\"id\":\"b641e9a3-db5a-4229-8364-90d96b6831fd\",\"type\":\"SaveTool\"},{\"id\":\"ea72d6d5-c908-44b2-9422-c18ce31dfe1a\",\"type\":\"ResetTool\"},{\"id\":\"d35ec079-fbc8-48cc-a095-f3eb7335b7f3\",\"type\":\"HelpTool\"}]},\"id\":\"138a61ec-371f-422d-9121-2d24b2391948\",\"type\":\"Toolbar\"},{\"attributes\":{\"source\":{\"id\":\"aeb1a3fb-5382-4b3f-8555-b0468cd10aac\",\"type\":\"ColumnDataSource\"}},\"id\":\"bc1642fc-114f-4739-821e-cd124e4948ae\",\"type\":\"CDSView\"},{\"attributes\":{\"data_source\":{\"id\":\"aeb1a3fb-5382-4b3f-8555-b0468cd10aac\",\"type\":\"ColumnDataSource\"},\"glyph\":{\"id\":\"4edb8ee1-8953-491d-a64f-4c5737115d18\",\"type\":\"Circle\"},\"hover_glyph\":null,\"muted_glyph\":null,\"nonselection_glyph\":{\"id\":\"d1b14685-6f95-4058-ae0d-a9ea20aff558\",\"type\":\"Circle\"},\"selection_glyph\":null,\"view\":{\"id\":\"bc1642fc-114f-4739-821e-cd124e4948ae\",\"type\":\"CDSView\"}},\"id\":\"e2de8f21-204d-400b-9abf-e7f8e5cb1b8a\",\"type\":\"GlyphRenderer\"},{\"attributes\":{\"formatter\":{\"id\":\"f82c25df-ce3e-484d-96fe-f334a568fd96\",\"type\":\"BasicTickFormatter\"},\"plot\":{\"id\":\"4f440f77-b4ff-4fd2-96f0-ecd34e940eae\",\"subtype\":\"Figure\",\"type\":\"Plot\"},\"ticker\":{\"id\":\"c8944507-c90b-4070-9bf7-9656f92a9ed8\",\"type\":\"BasicTicker\"}},\"id\":\"e55510c4-9957-4128-92a4-ba075ce4edc5\",\"type\":\"LinearAxis\"},{\"attributes\":{\"plot\":{\"id\":\"4f440f77-b4ff-4fd2-96f0-ecd34e940eae\",\"subtype\":\"Figure\",\"type\":\"Plot\"},\"ticker\":{\"id\":\"c8944507-c90b-4070-9bf7-9656f92a9ed8\",\"type\":\"BasicTicker\"}},\"id\":\"69a42ce7-37de-4533-9843-cff7652b685e\",\"type\":\"Grid\"},{\"attributes\":{\"formatter\":{\"id\":\"1af39177-fe45-4f15-96f6-dfcd6a88e977\",\"type\":\"BasicTickFormatter\"},\"plot\":{\"id\":\"4f440f77-b4ff-4fd2-96f0-ecd34e940eae\",\"subtype\":\"Figure\",\"type\":\"Plot\"},\"ticker\":{\"id\":\"6eed8fbd-a5e2-43f2-b303-a31aa4bf86b7\",\"type\":\"BasicTicker\"}},\"id\":\"42b5bc86-31de-4c02-b288-fbd9cf17501f\",\"type\":\"LinearAxis\"},{\"attributes\":{},\"id\":\"b641e9a3-db5a-4229-8364-90d96b6831fd\",\"type\":\"SaveTool\"},{\"attributes\":{\"fill_alpha\":{\"value\":0.5},\"fill_color\":{\"value\":\"orange\"},\"line_color\":{\"value\":\"navy\"},\"size\":{\"units\":\"screen\",\"value\":15},\"x\":{\"field\":\"x\"},\"y\":{\"field\":\"y\"}},\"id\":\"4edb8ee1-8953-491d-a64f-4c5737115d18\",\"type\":\"Circle\"}],\"root_ids\":[\"4f440f77-b4ff-4fd2-96f0-ecd34e940eae\"]},\"title\":\"Bokeh Application\",\"version\":\"0.12.16\"}};\n",
       "  var render_items = [{\"docid\":\"3b1decc2-96e3-49dc-8ddd-7f20c5bd337b\",\"elementid\":\"ab704ee3-3faf-46d6-aee3-a0c483615748\",\"modelid\":\"4f440f77-b4ff-4fd2-96f0-ecd34e940eae\"}];\n",
       "  root.Bokeh.embed.embed_items_notebook(docs_json, render_items);\n",
       "\n",
       "  }\n",
       "  if (root.Bokeh !== undefined) {\n",
       "    embed_document(root);\n",
       "  } else {\n",
       "    var attempts = 0;\n",
       "    var timer = setInterval(function(root) {\n",
       "      if (root.Bokeh !== undefined) {\n",
       "        embed_document(root);\n",
       "        clearInterval(timer);\n",
       "      }\n",
       "      attempts++;\n",
       "      if (attempts > 100) {\n",
       "        console.log(\"Bokeh: ERROR: Unable to run BokehJS code because BokehJS library is missing\")\n",
       "        clearInterval(timer);\n",
       "      }\n",
       "    }, 10, root)\n",
       "  }\n",
       "})(window);"
      ],
      "application/vnd.bokehjs_exec.v0+json": ""
     },
     "metadata": {
      "application/vnd.bokehjs_exec.v0+json": {
       "id": "4f440f77-b4ff-4fd2-96f0-ecd34e940eae"
      }
     },
     "output_type": "display_data"
    }
   ],
   "source": [
    "from bokeh.plotting import figure, show\n",
    "\n",
    "# create a new plot with default tools, using figure\n",
    "p = figure(plot_width=400, plot_height=400)\n",
    "\n",
    "# add a circle glyph with x and y coordinates, size, and color\n",
    "p.circle([1, 2, 3, 4, 5], [6, 7, 2, 4, 5], size=15, line_color=\"navy\", fill_color=\"orange\", fill_alpha=0.5)\n",
    "\n",
    "# show the plot\n",
    "show(p)\n"
   ]
  },
  {
   "cell_type": "markdown",
   "metadata": {},
   "source": [
    "Q3. How can you customize the appearance of a Bokeh plot, including the axes, title, and legend?"
   ]
  },
  {
   "cell_type": "code",
   "execution_count": 19,
   "metadata": {},
   "outputs": [
    {
     "data": {
      "text/html": [
       "\n",
       "<div class=\"bk-root\">\n",
       "    <div class=\"bk-plotdiv\" id=\"3100d94e-5e30-4273-b1ff-29f6d070f6d7\"></div>\n",
       "</div>"
      ]
     },
     "metadata": {},
     "output_type": "display_data"
    },
    {
     "data": {
      "application/javascript": [
       "(function(root) {\n",
       "  function embed_document(root) {\n",
       "    \n",
       "  var docs_json = {\"876a5e3a-fa1f-41e3-bbd4-b57dd99d478a\":{\"roots\":{\"references\":[{\"attributes\":{\"fill_alpha\":{\"value\":0.1},\"fill_color\":{\"value\":\"#1f77b4\"},\"line_alpha\":{\"value\":0.1},\"line_color\":{\"value\":\"#1f77b4\"},\"size\":{\"units\":\"screen\",\"value\":15},\"x\":{\"field\":\"x\"},\"y\":{\"field\":\"y\"}},\"id\":\"6ce107eb-b436-433e-8a69-ab83fd28d52f\",\"type\":\"Circle\"},{\"attributes\":{},\"id\":\"53135a1b-ee2f-4a34-b07a-098943d19840\",\"type\":\"HelpTool\"},{\"attributes\":{\"callback\":null},\"id\":\"e0c13570-e452-4685-a724-fdabc88f822e\",\"type\":\"DataRange1d\"},{\"attributes\":{},\"id\":\"87718555-2d08-4140-9981-420142214f07\",\"type\":\"LinearScale\"},{\"attributes\":{},\"id\":\"6be793b3-2902-41b3-8643-3de39bdf13e9\",\"type\":\"LinearScale\"},{\"attributes\":{},\"id\":\"f299f76b-e9ae-4872-9a4c-553b42ff739f\",\"type\":\"WheelZoomTool\"},{\"attributes\":{\"plot\":{\"id\":\"70fb3233-8f18-4e39-b056-27036b3ecf2f\",\"subtype\":\"Figure\",\"type\":\"Plot\"},\"ticker\":{\"id\":\"ef2cd747-6d1c-43b0-994c-b7d26dc5afcb\",\"type\":\"BasicTicker\"}},\"id\":\"30f946cc-a870-4338-bd15-2e63be06ff38\",\"type\":\"Grid\"},{\"attributes\":{\"plot\":null,\"text\":\"example graph\"},\"id\":\"0aab30b6-10aa-4e79-9357-64334bfe2ddf\",\"type\":\"Title\"},{\"attributes\":{\"axis_label\":\"xx axis\",\"formatter\":{\"id\":\"288f0929-5f05-42fb-b64e-805f019a8450\",\"type\":\"BasicTickFormatter\"},\"plot\":{\"id\":\"70fb3233-8f18-4e39-b056-27036b3ecf2f\",\"subtype\":\"Figure\",\"type\":\"Plot\"},\"ticker\":{\"id\":\"ef2cd747-6d1c-43b0-994c-b7d26dc5afcb\",\"type\":\"BasicTicker\"}},\"id\":\"19bfe30e-2e87-4a62-be5a-bbeb8527f018\",\"type\":\"LinearAxis\"},{\"attributes\":{},\"id\":\"ce1a68d5-4cbc-40f4-a6dd-13f7044fc9e7\",\"type\":\"BasicTickFormatter\"},{\"attributes\":{},\"id\":\"ef2cd747-6d1c-43b0-994c-b7d26dc5afcb\",\"type\":\"BasicTicker\"},{\"attributes\":{\"axis_label\":\"yy axis\",\"formatter\":{\"id\":\"ce1a68d5-4cbc-40f4-a6dd-13f7044fc9e7\",\"type\":\"BasicTickFormatter\"},\"plot\":{\"id\":\"70fb3233-8f18-4e39-b056-27036b3ecf2f\",\"subtype\":\"Figure\",\"type\":\"Plot\"},\"ticker\":{\"id\":\"a4081570-e945-4953-9b16-fd27a98d184b\",\"type\":\"BasicTicker\"}},\"id\":\"ca64f9c6-563a-4bca-9d0c-a8d2aede6025\",\"type\":\"LinearAxis\"},{\"attributes\":{},\"id\":\"288f0929-5f05-42fb-b64e-805f019a8450\",\"type\":\"BasicTickFormatter\"},{\"attributes\":{},\"id\":\"a4081570-e945-4953-9b16-fd27a98d184b\",\"type\":\"BasicTicker\"},{\"attributes\":{\"items\":[{\"id\":\"81fdb258-f4d3-4882-a177-3c7efce2c64f\",\"type\":\"LegendItem\"}],\"plot\":{\"id\":\"70fb3233-8f18-4e39-b056-27036b3ecf2f\",\"subtype\":\"Figure\",\"type\":\"Plot\"}},\"id\":\"83ddaeda-262b-4bd1-8b9f-71040e93cbed\",\"type\":\"Legend\"},{\"attributes\":{\"dimension\":1,\"plot\":{\"id\":\"70fb3233-8f18-4e39-b056-27036b3ecf2f\",\"subtype\":\"Figure\",\"type\":\"Plot\"},\"ticker\":{\"id\":\"a4081570-e945-4953-9b16-fd27a98d184b\",\"type\":\"BasicTicker\"}},\"id\":\"afa89363-3996-4afa-920a-ed0a0a603463\",\"type\":\"Grid\"},{\"attributes\":{\"label\":{\"value\":\"Circle\"},\"renderers\":[{\"id\":\"e4b8ed01-7e17-42ab-a023-ff14ecbd5ebc\",\"type\":\"GlyphRenderer\"}]},\"id\":\"81fdb258-f4d3-4882-a177-3c7efce2c64f\",\"type\":\"LegendItem\"},{\"attributes\":{\"data_source\":{\"id\":\"a1e1dfdd-ca8a-4410-9949-19a1f3c353ce\",\"type\":\"ColumnDataSource\"},\"glyph\":{\"id\":\"fceeb23d-25e7-49cf-96fb-fbcd6eef9685\",\"type\":\"Circle\"},\"hover_glyph\":null,\"muted_glyph\":null,\"nonselection_glyph\":{\"id\":\"6ce107eb-b436-433e-8a69-ab83fd28d52f\",\"type\":\"Circle\"},\"selection_glyph\":null,\"view\":{\"id\":\"309de762-c041-4307-b920-0eb5d9ecb7ec\",\"type\":\"CDSView\"}},\"id\":\"e4b8ed01-7e17-42ab-a023-ff14ecbd5ebc\",\"type\":\"GlyphRenderer\"},{\"attributes\":{\"fill_alpha\":{\"value\":0.5},\"fill_color\":{\"value\":\"orange\"},\"line_color\":{\"value\":\"navy\"},\"size\":{\"units\":\"screen\",\"value\":15},\"x\":{\"field\":\"x\"},\"y\":{\"field\":\"y\"}},\"id\":\"fceeb23d-25e7-49cf-96fb-fbcd6eef9685\",\"type\":\"Circle\"},{\"attributes\":{\"source\":{\"id\":\"a1e1dfdd-ca8a-4410-9949-19a1f3c353ce\",\"type\":\"ColumnDataSource\"}},\"id\":\"309de762-c041-4307-b920-0eb5d9ecb7ec\",\"type\":\"CDSView\"},{\"attributes\":{\"bottom_units\":\"screen\",\"fill_alpha\":{\"value\":0.5},\"fill_color\":{\"value\":\"lightgrey\"},\"left_units\":\"screen\",\"level\":\"overlay\",\"line_alpha\":{\"value\":1.0},\"line_color\":{\"value\":\"black\"},\"line_dash\":[4,4],\"line_width\":{\"value\":2},\"plot\":null,\"render_mode\":\"css\",\"right_units\":\"screen\",\"top_units\":\"screen\"},\"id\":\"19e0ebd4-c06e-44fe-9fa6-3349b40e499a\",\"type\":\"BoxAnnotation\"},{\"attributes\":{},\"id\":\"36a087c4-b82f-4708-8abc-c6cb869ad3c1\",\"type\":\"PanTool\"},{\"attributes\":{\"below\":[{\"id\":\"19bfe30e-2e87-4a62-be5a-bbeb8527f018\",\"type\":\"LinearAxis\"}],\"left\":[{\"id\":\"ca64f9c6-563a-4bca-9d0c-a8d2aede6025\",\"type\":\"LinearAxis\"}],\"plot_height\":400,\"plot_width\":400,\"renderers\":[{\"id\":\"19bfe30e-2e87-4a62-be5a-bbeb8527f018\",\"type\":\"LinearAxis\"},{\"id\":\"30f946cc-a870-4338-bd15-2e63be06ff38\",\"type\":\"Grid\"},{\"id\":\"ca64f9c6-563a-4bca-9d0c-a8d2aede6025\",\"type\":\"LinearAxis\"},{\"id\":\"afa89363-3996-4afa-920a-ed0a0a603463\",\"type\":\"Grid\"},{\"id\":\"19e0ebd4-c06e-44fe-9fa6-3349b40e499a\",\"type\":\"BoxAnnotation\"},{\"id\":\"83ddaeda-262b-4bd1-8b9f-71040e93cbed\",\"type\":\"Legend\"},{\"id\":\"e4b8ed01-7e17-42ab-a023-ff14ecbd5ebc\",\"type\":\"GlyphRenderer\"}],\"title\":{\"id\":\"0aab30b6-10aa-4e79-9357-64334bfe2ddf\",\"type\":\"Title\"},\"toolbar\":{\"id\":\"2f5be6b1-76e4-4501-8fad-a5f8eeec7f99\",\"type\":\"Toolbar\"},\"x_range\":{\"id\":\"182b6d2a-442a-4306-a00e-2c8ae93a7f65\",\"type\":\"DataRange1d\"},\"x_scale\":{\"id\":\"87718555-2d08-4140-9981-420142214f07\",\"type\":\"LinearScale\"},\"y_range\":{\"id\":\"e0c13570-e452-4685-a724-fdabc88f822e\",\"type\":\"DataRange1d\"},\"y_scale\":{\"id\":\"6be793b3-2902-41b3-8643-3de39bdf13e9\",\"type\":\"LinearScale\"}},\"id\":\"70fb3233-8f18-4e39-b056-27036b3ecf2f\",\"subtype\":\"Figure\",\"type\":\"Plot\"},{\"attributes\":{},\"id\":\"bf66ae7a-ab11-42c6-b330-3bc783c984dc\",\"type\":\"Selection\"},{\"attributes\":{\"overlay\":{\"id\":\"19e0ebd4-c06e-44fe-9fa6-3349b40e499a\",\"type\":\"BoxAnnotation\"}},\"id\":\"f07f02be-27a7-4ad5-bf14-acb2ab381226\",\"type\":\"BoxZoomTool\"},{\"attributes\":{\"callback\":null,\"data\":{\"x\":[1,2,3,4,5],\"y\":[6,7,2,4,5]},\"selected\":{\"id\":\"bf66ae7a-ab11-42c6-b330-3bc783c984dc\",\"type\":\"Selection\"},\"selection_policy\":{\"id\":\"8fdfd11f-7b1f-451f-92c1-ef474991ff87\",\"type\":\"UnionRenderers\"}},\"id\":\"a1e1dfdd-ca8a-4410-9949-19a1f3c353ce\",\"type\":\"ColumnDataSource\"},{\"attributes\":{},\"id\":\"8fdfd11f-7b1f-451f-92c1-ef474991ff87\",\"type\":\"UnionRenderers\"},{\"attributes\":{\"active_drag\":\"auto\",\"active_inspect\":\"auto\",\"active_scroll\":\"auto\",\"active_tap\":\"auto\",\"tools\":[{\"id\":\"36a087c4-b82f-4708-8abc-c6cb869ad3c1\",\"type\":\"PanTool\"},{\"id\":\"f299f76b-e9ae-4872-9a4c-553b42ff739f\",\"type\":\"WheelZoomTool\"},{\"id\":\"f07f02be-27a7-4ad5-bf14-acb2ab381226\",\"type\":\"BoxZoomTool\"},{\"id\":\"f207e6e4-28e6-4466-9e4b-4f4e23011f85\",\"type\":\"SaveTool\"},{\"id\":\"69c15fa2-dc7e-4e86-b799-f152210079ef\",\"type\":\"ResetTool\"},{\"id\":\"53135a1b-ee2f-4a34-b07a-098943d19840\",\"type\":\"HelpTool\"}]},\"id\":\"2f5be6b1-76e4-4501-8fad-a5f8eeec7f99\",\"type\":\"Toolbar\"},{\"attributes\":{},\"id\":\"f207e6e4-28e6-4466-9e4b-4f4e23011f85\",\"type\":\"SaveTool\"},{\"attributes\":{\"callback\":null},\"id\":\"182b6d2a-442a-4306-a00e-2c8ae93a7f65\",\"type\":\"DataRange1d\"},{\"attributes\":{},\"id\":\"69c15fa2-dc7e-4e86-b799-f152210079ef\",\"type\":\"ResetTool\"}],\"root_ids\":[\"70fb3233-8f18-4e39-b056-27036b3ecf2f\"]},\"title\":\"Bokeh Application\",\"version\":\"0.12.16\"}};\n",
       "  var render_items = [{\"docid\":\"876a5e3a-fa1f-41e3-bbd4-b57dd99d478a\",\"elementid\":\"3100d94e-5e30-4273-b1ff-29f6d070f6d7\",\"modelid\":\"70fb3233-8f18-4e39-b056-27036b3ecf2f\"}];\n",
       "  root.Bokeh.embed.embed_items_notebook(docs_json, render_items);\n",
       "\n",
       "  }\n",
       "  if (root.Bokeh !== undefined) {\n",
       "    embed_document(root);\n",
       "  } else {\n",
       "    var attempts = 0;\n",
       "    var timer = setInterval(function(root) {\n",
       "      if (root.Bokeh !== undefined) {\n",
       "        embed_document(root);\n",
       "        clearInterval(timer);\n",
       "      }\n",
       "      attempts++;\n",
       "      if (attempts > 100) {\n",
       "        console.log(\"Bokeh: ERROR: Unable to run BokehJS code because BokehJS library is missing\")\n",
       "        clearInterval(timer);\n",
       "      }\n",
       "    }, 10, root)\n",
       "  }\n",
       "})(window);"
      ],
      "application/vnd.bokehjs_exec.v0+json": ""
     },
     "metadata": {
      "application/vnd.bokehjs_exec.v0+json": {
       "id": "70fb3233-8f18-4e39-b056-27036b3ecf2f"
      }
     },
     "output_type": "display_data"
    }
   ],
   "source": [
    "from bokeh.plotting import figure, show\n",
    "\n",
    "# create a new plot with default tools, using figure\n",
    "p = figure(plot_width=400, plot_height=400)\n",
    "\n",
    "# add a circle glyph with x and y coordinates, size, color and legend\n",
    "p.circle([1, 2, 3, 4, 5], [6, 7, 2, 4, 5], size=15, line_color=\"navy\", fill_color=\"orange\", fill_alpha=0.5,legend=\"Circle\")\n",
    "\n",
    "#add x axis\n",
    "p.xaxis.axis_label='xx axis'\n",
    "\n",
    "#add y axis\n",
    "p.yaxis.axis_label='yy axis'\n",
    "\n",
    "#add title\n",
    "p.title.text='example graph'\n",
    "\n",
    "# show the plot\n",
    "show(p)\n"
   ]
  },
  {
   "cell_type": "markdown",
   "metadata": {},
   "source": [
    "Q4. What is a Bokeh server, and how can you use it to create interactive plots that can be updated in\n",
    "real time?"
   ]
  },
  {
   "cell_type": "markdown",
   "metadata": {},
   "source": [
    "Bokeh server is a Python-based server that allows for the creation of interactive web applications with Bokeh plots. It enables the creation of interactive plots that can be updated in real time based on user input or some other external event.\n",
    "\n",
    "With Bokeh server, the Bokeh plots are generated on the server-side, and the web browser only displays the interactive components, such as buttons, sliders, and text inputs, that allow the user to interact with the plot. Whenever the user interacts with these components, a callback function is executed on the server-side, which updates the plot based on the new input data."
   ]
  },
  {
   "cell_type": "markdown",
   "metadata": {},
   "source": [
    "Q5. How can you embed a Bokeh plot into a web page or dashboard using Flask or Django?"
   ]
  },
  {
   "cell_type": "markdown",
   "metadata": {},
   "source": [
    "To embed a Bokeh plot into a web page or dashboard using Flask or Django, you can use the components function from the Bokeh library. This function generates the necessary HTML and JavaScript code for embedding the Bokeh plot in a web page."
   ]
  }
 ],
 "metadata": {
  "kernelspec": {
   "display_name": "Python 3",
   "language": "python",
   "name": "python3"
  },
  "language_info": {
   "codemirror_mode": {
    "name": "ipython",
    "version": 3
   },
   "file_extension": ".py",
   "mimetype": "text/x-python",
   "name": "python",
   "nbconvert_exporter": "python",
   "pygments_lexer": "ipython3",
   "version": "3.6.5"
  }
 },
 "nbformat": 4,
 "nbformat_minor": 2
}
